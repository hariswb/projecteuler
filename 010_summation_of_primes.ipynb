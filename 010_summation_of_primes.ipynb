{
 "cells": [
  {
   "cell_type": "code",
   "execution_count": 1,
   "metadata": {},
   "outputs": [],
   "source": [
    "import math\n",
    "import time"
   ]
  },
  {
   "cell_type": "code",
   "execution_count": 3,
   "metadata": {},
   "outputs": [
    {
     "name": "stdout",
     "output_type": "stream",
     "text": [
      "time spent:  1.121 Seconds\n"
     ]
    },
    {
     "data": {
      "text/plain": [
       "142913828922"
      ]
     },
     "execution_count": 3,
     "metadata": {},
     "output_type": "execute_result"
    }
   ],
   "source": [
    "def eratosthenes(integer):\n",
    "    \"\"\"\n",
    "    Takes an integer\n",
    "    find all the prime below that integer\n",
    "    uses the old sieve of eratosthenes\n",
    "    with python set for faster performance\n",
    "    \n",
    "    For searching all primes under 2 million, \n",
    "    this takes around 1 second\n",
    "    \"\"\"\n",
    "    start=time.time()\n",
    "    p = set(range(2,integer+1))\n",
    "    i = 2\n",
    "    while i < integer:\n",
    "        if i in p:\n",
    "            p -= set(range(i*2,integer+1,i))\n",
    "        i+=1\n",
    "    print(\"time spent: \", round(time.time()-start,3), \"Seconds\")\n",
    "    return sum(p)\n",
    "eratosthenes(2000000)"
   ]
  }
 ],
 "metadata": {
  "kernelspec": {
   "display_name": "Python 3",
   "language": "python",
   "name": "python3"
  },
  "language_info": {
   "codemirror_mode": {
    "name": "ipython",
    "version": 3
   },
   "file_extension": ".py",
   "mimetype": "text/x-python",
   "name": "python",
   "nbconvert_exporter": "python",
   "pygments_lexer": "ipython3",
   "version": "3.8.5"
  }
 },
 "nbformat": 4,
 "nbformat_minor": 4
}
